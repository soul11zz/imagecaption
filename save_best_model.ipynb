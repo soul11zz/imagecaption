{
 "cells": [
  {
   "attachments": {},
   "cell_type": "markdown",
   "id": "e1f0694f-82ff-4dfc-9eb3-8a0b3e331ebf",
   "metadata": {},
   "source": [
    "## Save Best Model"
   ]
  },
  {
   "cell_type": "code",
   "execution_count": 1,
   "id": "3e1c4602",
   "metadata": {},
   "outputs": [],
   "source": [
    "%load_ext autoreload\n",
    "%autoreload 2"
   ]
  },
  {
   "cell_type": "code",
   "execution_count": 2,
   "id": "f3c9f5fd-e585-47c3-9419-0fa3d31b8ff3",
   "metadata": {
    "tags": []
   },
   "outputs": [],
   "source": [
    "import os\n",
    "import os.path as osp\n",
    "if osp.exists(\"imagecaption\"):\n",
    "    os.chdir(\"imagecaption\")"
   ]
  },
  {
   "cell_type": "code",
   "execution_count": null,
   "id": "ec4460c2-3fee-4e34-8997-d5c43e7ae7f3",
   "metadata": {
    "tags": []
   },
   "outputs": [],
   "source": [
    "!pip install -r train/requirements.txt"
   ]
  },
  {
   "cell_type": "code",
   "execution_count": 3,
   "id": "ff8bd00d-cb33-41c2-bc7b-51d9d9743f13",
   "metadata": {
    "tags": []
   },
   "outputs": [
    {
     "name": "stderr",
     "output_type": "stream",
     "text": [
      "Global seed set to 42\n"
     ]
    },
    {
     "data": {
      "text/plain": [
       "42"
      ]
     },
     "execution_count": 3,
     "metadata": {},
     "output_type": "execute_result"
    }
   ],
   "source": [
    "import os.path as osp\n",
    "import sys\n",
    "train_dir = osp.abspath(\"train\")\n",
    "if train_dir not in sys.path:\n",
    "    sys.path.insert(0, train_dir)\n",
    "    \n",
    "import pytorch_lightning as pl\n",
    "from huggingface_hub import HfApi, notebook_login\n",
    "\n",
    "\n",
    "pl.seed_everything(42, workers=True)\n"
   ]
  },
  {
   "cell_type": "markdown",
   "id": "15b57429",
   "metadata": {},
   "source": [
    "### Login to HuggingFace"
   ]
  },
  {
   "cell_type": "markdown",
   "id": "123a3fc1",
   "metadata": {},
   "source": [
    "### Run PL Trainer\n"
   ]
  },
  {
   "cell_type": "code",
   "execution_count": 4,
   "id": "c1689e83",
   "metadata": {
    "tags": []
   },
   "outputs": [],
   "source": [
    "from argparse import Namespace\n",
    "args = {\n",
    "  \"best_model\": \"soul11zz/image-caption-description-large\",\n",
    "  \"checkpoint\": \"Z:/imcap-epoch=07-val_loss=0.19.ckpt\",\n",
    "  \"dataset\": \"soul11zz/image-caption-description-large\",\n",
    "  \"metric\": \"meteor\",\n",
    "}\n",
    "\n",
    "args = Namespace(**args)\n"
   ]
  },
  {
   "cell_type": "markdown",
   "id": "598c756f-8817-4a1b-9cda-db254ed69592",
   "metadata": {},
   "source": [
    "### Upload Best Model"
   ]
  },
  {
   "cell_type": "code",
   "execution_count": 8,
   "id": "9ac42dfa-9325-41c2-ac07-21bf507a3aa2",
   "metadata": {
    "execution": {
     "iopub.execute_input": "2023-01-27T02:43:24.497998Z",
     "iopub.status.busy": "2023-01-27T02:43:24.497370Z",
     "iopub.status.idle": "2023-01-27T02:43:42.016340Z",
     "shell.execute_reply": "2023-01-27T02:43:42.015693Z",
     "shell.execute_reply.started": "2023-01-27T02:43:24.497977Z"
    }
   },
   "outputs": [
    {
     "name": "stderr",
     "output_type": "stream",
     "text": [
      "Lightning automatically upgraded your loaded checkpoint from v1.7.7 to v1.9.0. To apply the upgrade to your files permanently, run `python -m pytorch_lightning.utilities.upgrade_checkpoint --file Z:\\imcap-epoch=07-val_loss=0.19.ckpt`\n"
     ]
    }
   ],
   "source": [
    "from train import save_best_model\n",
    "from transformers import GitForCausalLM, GitProcessor\n",
    "from pl_module import ImageCaptioningModule\n",
    "model = GitForCausalLM.from_pretrained(\"microsoft/git-large\")\n",
    "processor = GitProcessor.from_pretrained(\"microsoft/git-large\")\n",
    "best_model = ImageCaptioningModule.load_from_checkpoint(args.checkpoint, processor=processor, model=model)\n",
    "\n",
    "model_repo = args.best_model\n",
    "save_best_model(best_model, args.best_model, save_dir=\"tmp/best_model\")"
   ]
  },
  {
   "cell_type": "markdown",
   "id": "5ae97a1d",
   "metadata": {},
   "source": [
    "### Evaluate Best Model"
   ]
  },
  {
   "cell_type": "code",
   "execution_count": 8,
   "id": "56482e98",
   "metadata": {},
   "outputs": [],
   "source": [
    "from eval import score_model\n",
    "\n",
    "score_model(args.model, args.dataset, args.metric)"
   ]
  }
 ],
 "metadata": {
  "kernelspec": {
   "display_name": "Python 3 (ipykernel)",
   "language": "python",
   "name": "python3"
  },
  "language_info": {
   "codemirror_mode": {
    "name": "ipython",
    "version": 3
   },
   "file_extension": ".py",
   "mimetype": "text/x-python",
   "name": "python",
   "nbconvert_exporter": "python",
   "pygments_lexer": "ipython3",
   "version": "3.9.16"
  },
  "vscode": {
   "interpreter": {
    "hash": "78bfdcee45ab360ff98997b0fdb262d833775071286b5e4a7c2a2c9a5871b9ea"
   }
  }
 },
 "nbformat": 4,
 "nbformat_minor": 5
}
