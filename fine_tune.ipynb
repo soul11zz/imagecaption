{
 "cells": [
  {
   "attachments": {},
   "cell_type": "markdown",
   "id": "374d38b7",
   "metadata": {},
   "source": [
    "<a href=\"https://colab.research.google.com/github/soul11zz/imagecaption/blob/main/fine_tune.ipynb\" target=\"_parent\"><img src=\"https://colab.research.google.com/assets/colab-badge.svg\" alt=\"Open In Colab\"/></a>"
   ]
  },
  {
   "cell_type": "markdown",
   "id": "e1f0694f-82ff-4dfc-9eb3-8a0b3e331ebf",
   "metadata": {},
   "source": [
    "## Train with Pytorch Lighning"
   ]
  },
  {
   "cell_type": "code",
   "execution_count": 1,
   "id": "f3c9f5fd-e585-47c3-9419-0fa3d31b8ff3",
   "metadata": {
    "execution": {
     "iopub.execute_input": "2023-01-27T01:18:15.344928Z",
     "iopub.status.busy": "2023-01-27T01:18:15.344258Z",
     "iopub.status.idle": "2023-01-27T01:18:15.350695Z",
     "shell.execute_reply": "2023-01-27T01:18:15.350179Z",
     "shell.execute_reply.started": "2023-01-27T01:18:15.344866Z"
    }
   },
   "outputs": [],
   "source": [
    "import os\n",
    "import os.path as osp\n",
    "if osp.exists(\"imagecaption\"):\n",
    "    os.chdir(\"imagecaption\")"
   ]
  },
  {
   "cell_type": "code",
   "execution_count": null,
   "id": "ec4460c2-3fee-4e34-8997-d5c43e7ae7f3",
   "metadata": {
    "collapsed": true,
    "execution": {
     "iopub.execute_input": "2023-01-26T23:13:49.799148Z",
     "iopub.status.busy": "2023-01-26T23:13:49.798509Z",
     "iopub.status.idle": "2023-01-26T23:14:15.121585Z",
     "shell.execute_reply": "2023-01-26T23:14:15.121038Z",
     "shell.execute_reply.started": "2023-01-26T23:13:49.799124Z"
    },
    "jupyter": {
     "outputs_hidden": true
    }
   },
   "outputs": [],
   "source": [
    "!pip install -r train/requirements.txt"
   ]
  },
  {
   "cell_type": "code",
   "execution_count": 2,
   "id": "ff8bd00d-cb33-41c2-bc7b-51d9d9743f13",
   "metadata": {
    "execution": {
     "iopub.execute_input": "2023-01-27T01:18:19.282509Z",
     "iopub.status.busy": "2023-01-27T01:18:19.282005Z",
     "iopub.status.idle": "2023-01-27T01:18:21.236197Z",
     "shell.execute_reply": "2023-01-27T01:18:21.235698Z",
     "shell.execute_reply.started": "2023-01-27T01:18:19.282490Z"
    }
   },
   "outputs": [
    {
     "name": "stderr",
     "output_type": "stream",
     "text": [
      "Global seed set to 42\n"
     ]
    },
    {
     "data": {
      "text/plain": [
       "42"
      ]
     },
     "execution_count": 2,
     "metadata": {},
     "output_type": "execute_result"
    }
   ],
   "source": [
    "import os.path as osp\n",
    "import sys\n",
    "train_dir = osp.abspath(\"train\")\n",
    "if train_dir not in sys.path:\n",
    "    sys.path.append(train_dir)\n",
    "    \n",
    "import pl_module\n",
    "import pytorch_lightning as pl\n",
    "from huggingface_hub import HfApi, notebook_login\n",
    "from fine_tune import get_input_model_name\n",
    "\n",
    "pl.seed_everything(42, workers=True)\n"
   ]
  },
  {
   "cell_type": "markdown",
   "id": "15b57429",
   "metadata": {},
   "source": [
    "### Login to HuggingFace"
   ]
  },
  {
   "cell_type": "code",
   "execution_count": 3,
   "id": "fbf08f55",
   "metadata": {
    "execution": {
     "iopub.execute_input": "2023-01-27T01:18:26.731302Z",
     "iopub.status.busy": "2023-01-27T01:18:26.730455Z",
     "iopub.status.idle": "2023-01-27T01:18:26.755500Z",
     "shell.execute_reply": "2023-01-27T01:18:26.755064Z",
     "shell.execute_reply.started": "2023-01-27T01:18:26.731277Z"
    }
   },
   "outputs": [
    {
     "data": {
      "application/vnd.jupyter.widget-view+json": {
       "model_id": "a370013cd57b45f5ac33d7b3058552fe",
       "version_major": 2,
       "version_minor": 0
      },
      "text/plain": [
       "VBox(children=(HTML(value='<center> <img\\nsrc=https://huggingface.co/front/assets/huggingface_logo-noborder.sv…"
      ]
     },
     "metadata": {},
     "output_type": "display_data"
    }
   ],
   "source": [
    "\n",
    "notebook_login()"
   ]
  },
  {
   "cell_type": "markdown",
   "id": "826b4dab",
   "metadata": {},
   "source": [
    "### Load the model"
   ]
  },
  {
   "cell_type": "code",
   "execution_count": null,
   "id": "239fd9e3-688d-4f1a-830a-09e3b04b8d7d",
   "metadata": {
    "collapsed": true,
    "execution": {
     "iopub.execute_input": "2023-01-27T01:18:35.509863Z",
     "iopub.status.busy": "2023-01-27T01:18:35.509207Z",
     "iopub.status.idle": "2023-01-27T01:20:11.992585Z",
     "shell.execute_reply": "2023-01-27T01:20:11.991876Z",
     "shell.execute_reply.started": "2023-01-27T01:18:35.509836Z"
    },
    "jupyter": {
     "outputs_hidden": true
    }
   },
   "outputs": [],
   "source": [
    "from datasets import load_dataset\n",
    "from torch.utils.data import DataLoader\n",
    "from pl_module import ImageCaptioningModule\n",
    "from dataset import ImageCaptioningDataset\n",
    "from transformers import GitProcessor, GitForCausalLM\n",
    "\n",
    "from pytorch_lightning.loggers.tensorboard import TensorBoardLogger\n",
    "from pytorch_lightning.callbacks import ModelCheckpoint\n",
    "\n",
    "out_model = dataset_desc_only = \"soul11zz/image-caption-desc-only\"\n",
    "in_model = \"microsoft/git-large\"\n",
    "# model_name = get_input_model_name(out_model)\n",
    "\n",
    "dt_train = load_dataset(dataset_desc_only, split=\"train\")\n",
    "dt_val = load_dataset(dataset_desc_only, split=\"validation\")\n",
    "dt_test = load_dataset(dataset_desc_only, split=\"test\")\n",
    "\n",
    "processor = GitProcessor.from_pretrained(in_model)\n",
    "train_dataset = ImageCaptioningDataset(dt_train, processor)\n",
    "val_dataset = ImageCaptioningDataset(dt_val, processor)\n",
    "test_dataset = ImageCaptioningDataset(dt_test, processor)\n"
   ]
  },
  {
   "cell_type": "markdown",
   "id": "7d6defd2-5e9c-4cba-b851-eea6471f53c0",
   "metadata": {},
   "source": [
    "### Prelims for PL Module"
   ]
  },
  {
   "cell_type": "code",
   "execution_count": 17,
   "id": "dedab0cf-1881-42c5-9aed-5c0c1cba4d76",
   "metadata": {
    "execution": {
     "iopub.execute_input": "2023-01-27T01:37:05.617127Z",
     "iopub.status.busy": "2023-01-27T01:37:05.616469Z",
     "iopub.status.idle": "2023-01-27T01:37:07.162421Z",
     "shell.execute_reply": "2023-01-27T01:37:07.161777Z",
     "shell.execute_reply.started": "2023-01-27T01:37:05.617098Z"
    }
   },
   "outputs": [],
   "source": [
    "batch_size = 16\n",
    "model_dir = \"tmp/model\"\n",
    "epochs = 10\n",
    "\n",
    "if not osp.exists(model_dir):\n",
    "  os.makedirs(model_dir)\n",
    "  \n",
    "num_workers = os.cpu_count() if os.name != \"nt\" else 0\n",
    "train_loader = DataLoader(train_dataset, batch_size=batch_size, shuffle=True, num_workers=num_workers)\n",
    "val_loader = DataLoader(val_dataset, batch_size=batch_size, shuffle=False, num_workers=num_workers)\n",
    "test_loader = DataLoader(test_dataset, batch_size=batch_size, shuffle=False, num_workers=num_workers)\n",
    "\n",
    "model = GitForCausalLM.from_pretrained(in_model)\n",
    "callbacks = []\n",
    "\n",
    "pl_train_module = ImageCaptioningModule(processor, model, train_loader, val_loader, learning_rate=1e-4)\n",
    "\n",
    "### Trainer\n",
    "logger = TensorBoardLogger(\"tb_logs\", name=\"image-captioning\")\n",
    "\n",
    "checkpoint = ModelCheckpoint(dirpath=model_dir, \n",
    "                              save_top_k=2, monitor=\"val_loss\", \n",
    "                              mode=\"min\", \n",
    "                              filename=\"imcap-{epoch:02d}-{val_loss:.2f}\")\n",
    "\n",
    "callbacks += [checkpoint]\n"
   ]
  },
  {
   "cell_type": "markdown",
   "id": "123a3fc1",
   "metadata": {},
   "source": [
    "### Create PL Trainer"
   ]
  },
  {
   "cell_type": "code",
   "execution_count": 18,
   "id": "905ad3b2",
   "metadata": {
    "execution": {
     "iopub.execute_input": "2023-01-27T01:37:17.010953Z",
     "iopub.status.busy": "2023-01-27T01:37:17.010656Z",
     "iopub.status.idle": "2023-01-27T01:37:17.609054Z",
     "shell.execute_reply": "2023-01-27T01:37:17.608123Z",
     "shell.execute_reply.started": "2023-01-27T01:37:17.010931Z"
    }
   },
   "outputs": [
    {
     "name": "stderr",
     "output_type": "stream",
     "text": [
      "Using 16bit native Automatic Mixed Precision (AMP)\n",
      "GPU available: True (cuda), used: True\n",
      "TPU available: False, using: 0 TPU cores\n",
      "IPU available: False, using: 0 IPUs\n",
      "HPU available: False, using: 0 HPUs\n"
     ]
    }
   ],
   "source": [
    "trainer = pl.Trainer( \n",
    "                      logger=logger, \n",
    "                      gpus=1,\n",
    "                      callbacks=callbacks,\n",
    "                      max_epochs=epochs,\n",
    "                      check_val_every_n_epoch=1,\n",
    "                      # val_check_interval=50,\n",
    "                      precision=16,\n",
    "                      num_sanity_val_steps=1,\n",
    "                      )\n"
   ]
  },
  {
   "cell_type": "markdown",
   "id": "b197aba6",
   "metadata": {},
   "source": [
    "### (optional) Tune Learning Rate"
   ]
  },
  {
   "cell_type": "code",
   "execution_count": 14,
   "id": "33422c26",
   "metadata": {
    "execution": {
     "iopub.execute_input": "2023-01-27T01:28:49.903766Z",
     "iopub.status.busy": "2023-01-27T01:28:49.903074Z",
     "iopub.status.idle": "2023-01-27T01:29:35.090429Z",
     "shell.execute_reply": "2023-01-27T01:29:35.089845Z",
     "shell.execute_reply.started": "2023-01-27T01:28:49.903739Z"
    }
   },
   "outputs": [
    {
     "name": "stderr",
     "output_type": "stream",
     "text": [
      "GPU available: True (cuda), used: True\n",
      "TPU available: False, using: 0 TPU cores\n",
      "IPU available: False, using: 0 IPUs\n",
      "HPU available: False, using: 0 HPUs\n",
      "LOCAL_RANK: 0 - CUDA_VISIBLE_DEVICES: [0]\n"
     ]
    },
    {
     "data": {
      "application/vnd.jupyter.widget-view+json": {
       "model_id": "e657e3f7aa1442dabf693bd175ab3a2c",
       "version_major": 2,
       "version_minor": 0
      },
      "text/plain": [
       "Finding best initial lr:   0%|          | 0/100 [00:00<?, ?it/s]"
      ]
     },
     "metadata": {},
     "output_type": "display_data"
    },
    {
     "name": "stderr",
     "output_type": "stream",
     "text": [
      "`Trainer.fit` stopped: `max_steps=100` reached.\n",
      "Learning rate set to 0.0009120108393559097\n",
      "Restoring states from the checkpoint path at /notebooks/imagecaption/.lr_find_915fbacf-b635-4397-850a-07eaf1675ebe.ckpt\n"
     ]
    },
    {
     "data": {
      "text/plain": [
       "{'lr_find': <pytorch_lightning.tuner.lr_finder._LRFinder at 0x7f6222823040>}"
      ]
     },
     "execution_count": 14,
     "metadata": {},
     "output_type": "execute_result"
    }
   ],
   "source": [
    "tuner = pl.Trainer(auto_lr_find=True, accelerator=\"cuda\", devices=1, max_epochs=1)\n",
    "tuner.tune(pl_train_module)"
   ]
  },
  {
   "cell_type": "code",
   "execution_count": 19,
   "id": "c1689e83",
   "metadata": {
    "execution": {
     "iopub.execute_input": "2023-01-27T01:37:29.606963Z",
     "iopub.status.busy": "2023-01-27T01:37:29.606308Z",
     "iopub.status.idle": "2023-01-27T01:37:29.611542Z",
     "shell.execute_reply": "2023-01-27T01:37:29.610880Z",
     "shell.execute_reply.started": "2023-01-27T01:37:29.606940Z"
    }
   },
   "outputs": [
    {
     "data": {
      "text/plain": [
       "0.0001"
      ]
     },
     "execution_count": 19,
     "metadata": {},
     "output_type": "execute_result"
    }
   ],
   "source": [
    "pl_train_module.lr\n"
   ]
  },
  {
   "cell_type": "markdown",
   "id": "2256ac01",
   "metadata": {},
   "source": [
    "### Run Training"
   ]
  },
  {
   "cell_type": "code",
   "execution_count": null,
   "id": "7a4da1e6",
   "metadata": {
    "collapsed": true,
    "execution": {
     "iopub.execute_input": "2023-01-27T01:37:33.831267Z",
     "iopub.status.busy": "2023-01-27T01:37:33.830472Z",
     "iopub.status.idle": "2023-01-27T02:21:54.056781Z",
     "shell.execute_reply": "2023-01-27T02:21:54.056167Z",
     "shell.execute_reply.started": "2023-01-27T01:37:33.831243Z"
    },
    "jupyter": {
     "outputs_hidden": true
    }
   },
   "outputs": [],
   "source": [
    "trainer.fit(pl_train_module)"
   ]
  },
  {
   "cell_type": "markdown",
   "id": "598c756f-8817-4a1b-9cda-db254ed69592",
   "metadata": {},
   "source": [
    "### Upload Best Model"
   ]
  },
  {
   "cell_type": "code",
   "execution_count": 24,
   "id": "9ac42dfa-9325-41c2-ac07-21bf507a3aa2",
   "metadata": {
    "execution": {
     "iopub.execute_input": "2023-01-27T02:43:24.497998Z",
     "iopub.status.busy": "2023-01-27T02:43:24.497370Z",
     "iopub.status.idle": "2023-01-27T02:43:42.016340Z",
     "shell.execute_reply": "2023-01-27T02:43:42.015693Z",
     "shell.execute_reply.started": "2023-01-27T02:43:24.497977Z"
    }
   },
   "outputs": [
    {
     "data": {
      "application/vnd.jupyter.widget-view+json": {
       "model_id": "47a37bd0075445958d6b57c7436798ed",
       "version_major": 2,
       "version_minor": 0
      },
      "text/plain": [
       "pytorch_model.bin:   0%|          | 0.00/707M [00:00<?, ?B/s]"
      ]
     },
     "metadata": {},
     "output_type": "display_data"
    },
    {
     "data": {
      "application/vnd.jupyter.widget-view+json": {
       "model_id": "3d9baf1d4ff2409d977f8ffae441698d",
       "version_major": 2,
       "version_minor": 0
      },
      "text/plain": [
       "Upload 1 LFS files:   0%|          | 0/1 [00:00<?, ?it/s]"
      ]
     },
     "metadata": {},
     "output_type": "display_data"
    }
   ],
   "source": [
    "pl_model_best = ImageCaptioningModule.load_from_checkpoint(checkpoint.best_model_path, processor=processor, model=model, train_dataloader=train_loader, val_dataloader=val_loader)\n",
    "pl_model_best.model.save_pretrained(\"tb_logs/image-captioning/best_model\", push_to_hub=True, repo_id=out_model)\n",
    "pl_model_best.processor.save_pretrained(\"tb_logs/image-captioning/best_model\", push_to_hub=True, repo_id=out_model)\n"
   ]
  },
  {
   "attachments": {},
   "cell_type": "markdown",
   "id": "5ae97a1d",
   "metadata": {},
   "source": [
    "### Evaluate Best Model"
   ]
  },
  {
   "cell_type": "code",
   "execution_count": null,
   "id": "56482e98",
   "metadata": {},
   "outputs": [],
   "source": [
    "trainer.test(pl_train_module)"
   ]
  },
  {
   "cell_type": "code",
   "execution_count": null,
   "id": "1060a6ca",
   "metadata": {},
   "outputs": [],
   "source": []
  }
 ],
 "metadata": {
  "kernelspec": {
   "display_name": "Python 3 (ipykernel)",
   "language": "python",
   "name": "python3"
  },
  "language_info": {
   "codemirror_mode": {
    "name": "ipython",
    "version": 3
   },
   "file_extension": ".py",
   "mimetype": "text/x-python",
   "name": "python",
   "nbconvert_exporter": "python",
   "pygments_lexer": "ipython3",
   "version": "3.9.16 (main, Jan 11 2023, 16:16:36) [MSC v.1916 64 bit (AMD64)]"
  },
  "vscode": {
   "interpreter": {
    "hash": "78bfdcee45ab360ff98997b0fdb262d833775071286b5e4a7c2a2c9a5871b9ea"
   }
  }
 },
 "nbformat": 4,
 "nbformat_minor": 5
}
