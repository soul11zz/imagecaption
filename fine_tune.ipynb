{
 "cells": [
  {
   "cell_type": "markdown",
   "id": "e1f0694f-82ff-4dfc-9eb3-8a0b3e331ebf",
   "metadata": {},
   "source": [
    "## Train with Pytorch Lighning"
   ]
  },
  {
   "cell_type": "code",
   "execution_count": null,
   "id": "f3c9f5fd-e585-47c3-9419-0fa3d31b8ff3",
   "metadata": {
    "execution": {
     "iopub.execute_input": "2023-01-26T23:18:40.092636Z",
     "iopub.status.busy": "2023-01-26T23:18:40.091772Z",
     "iopub.status.idle": "2023-01-26T23:18:40.100328Z",
     "shell.execute_reply": "2023-01-26T23:18:40.099519Z",
     "shell.execute_reply.started": "2023-01-26T23:18:40.092542Z"
    }
   },
   "outputs": [],
   "source": [
    "import os\n",
    "import os.path as osp\n",
    "if osp.exists(\"imagecaption\"):\n",
    "    os.chdir(\"imagecaption\")"
   ]
  },
  {
   "cell_type": "code",
   "execution_count": null,
   "id": "ec4460c2-3fee-4e34-8997-d5c43e7ae7f3",
   "metadata": {
    "collapsed": true,
    "execution": {
     "iopub.execute_input": "2023-01-26T23:13:49.799148Z",
     "iopub.status.busy": "2023-01-26T23:13:49.798509Z",
     "iopub.status.idle": "2023-01-26T23:14:15.121585Z",
     "shell.execute_reply": "2023-01-26T23:14:15.121038Z",
     "shell.execute_reply.started": "2023-01-26T23:13:49.799124Z"
    },
    "jupyter": {
     "outputs_hidden": true
    }
   },
   "outputs": [],
   "source": [
    "!pip install -r train/requirements.txt"
   ]
  },
  {
   "cell_type": "code",
   "execution_count": null,
   "id": "ff8bd00d-cb33-41c2-bc7b-51d9d9743f13",
   "metadata": {
    "execution": {
     "iopub.execute_input": "2023-01-26T23:11:36.713660Z",
     "iopub.status.busy": "2023-01-26T23:11:36.713067Z",
     "iopub.status.idle": "2023-01-26T23:11:36.725046Z",
     "shell.execute_reply": "2023-01-26T23:11:36.724394Z",
     "shell.execute_reply.started": "2023-01-26T23:11:36.713596Z"
    }
   },
   "outputs": [],
   "source": [
    "import os.path as osp\n",
    "import sys\n",
    "train_dir = osp.abspath(\"train\")\n",
    "if train_dir not in sys.path:\n",
    "    sys.path.append(train_dir)\n",
    "    \n",
    "import pl_module\n",
    "import pytorch_lightning as pl\n",
    "from huggingface_hub import HfApi, notebook_login\n",
    "from fine_tune import get_input_model_name\n",
    "\n",
    "pl.seed_everything(42, workers=True)\n"
   ]
  },
  {
   "attachments": {},
   "cell_type": "markdown",
   "id": "15b57429",
   "metadata": {},
   "source": [
    "### Login to HuggingFace"
   ]
  },
  {
   "cell_type": "code",
   "execution_count": null,
   "id": "fbf08f55",
   "metadata": {},
   "outputs": [],
   "source": [
    "\n",
    "notebook_login()"
   ]
  },
  {
   "cell_type": "markdown",
   "id": "826b4dab",
   "metadata": {},
   "source": [
    "### Load the model"
   ]
  },
  {
   "cell_type": "code",
   "execution_count": null,
   "id": "239fd9e3-688d-4f1a-830a-09e3b04b8d7d",
   "metadata": {},
   "outputs": [],
   "source": [
    "from datasets import load_dataset\n",
    "from torch.utils.data import DataLoader\n",
    "from pl_module import ImageCaptioningModule\n",
    "from dataset import ImageCaptioningDataset\n",
    "from transformers import GitProcessor, GitForCausalLM\n",
    "\n",
    "from pytorch_lightning.loggers.tensorboard import TensorBoardLogger\n",
    "from pytorch_lightning.callbacks import ModelCheckpoint\n",
    "\n",
    "out_model = dataset_desc_only = \"soul11zz/image-caption-desc-only\"\n",
    "model_name = get_input_model_name(out_model)\n",
    "\n",
    "dt_train = load_dataset(dataset_desc_only, split=\"train\")\n",
    "dt_val = load_dataset(dataset_desc_only, split=\"validation\")\n",
    "\n",
    "processor = GitProcessor.from_pretrained(out_model)\n",
    "train_dataset = ImageCaptioningDataset(dt_train, processor)\n",
    "val_dataset = ImageCaptioningDataset(dt_val, processor)\n"
   ]
  },
  {
   "attachments": {},
   "cell_type": "markdown",
   "id": "7d6defd2-5e9c-4cba-b851-eea6471f53c0",
   "metadata": {},
   "source": [
    "### Prelims for PL Module"
   ]
  },
  {
   "cell_type": "code",
   "execution_count": null,
   "id": "dedab0cf-1881-42c5-9aed-5c0c1cba4d76",
   "metadata": {},
   "outputs": [],
   "source": [
    "batch_size = 4\n",
    "model_dir = \"tmp/model\"\n",
    "epochs = 10\n",
    "\n",
    "if not osp.exists(model_dir):\n",
    "  os.makedirs(model_dir)\n",
    "  \n",
    "num_workers = os.cpu_count() if os.name != \"nt\" else 0\n",
    "train_loader = DataLoader(train_dataset, batch_size=batch_size, shuffle=True, num_workers=num_workers)\n",
    "val_loader = DataLoader(val_dataset, batch_size=batch_size, shuffle=False, num_workers=num_workers)\n",
    "\n",
    "model = GitForCausalLM.from_pretrained(out_model)\n",
    "callbacks = []\n",
    "\n",
    "pl_train_module = ImageCaptioningModule(processor, model, train_loader, val_loader, learning_rate=1e-2)\n",
    "\n",
    "### Trainer\n",
    "logger = TensorBoardLogger(\"tb_logs\", name=\"image-captioning\")\n",
    "\n",
    "checkpoint = ModelCheckpoint(dirpath=model_dir, \n",
    "                              save_top_k=2, monitor=\"val_loss\", \n",
    "                              mode=\"min\", \n",
    "                              filename=\"imcap-{epoch:02d}-{val_loss:.2f}\")\n",
    "\n",
    "callbacks += [checkpoint]\n"
   ]
  },
  {
   "cell_type": "markdown",
   "id": "123a3fc1",
   "metadata": {},
   "source": [
    "### Create PL Trainer"
   ]
  },
  {
   "cell_type": "code",
   "execution_count": null,
   "id": "905ad3b2",
   "metadata": {},
   "outputs": [],
   "source": [
    "trainer = pl.Trainer( \n",
    "                      logger=logger, \n",
    "                      gpus=1,\n",
    "                      callbacks=callbacks,\n",
    "                      max_epochs=epochs,\n",
    "                      check_val_every_n_epoch=1,\n",
    "                      # val_check_interval=50,\n",
    "                      precision=16,\n",
    "                      num_sanity_val_steps=1,\n",
    "                      )\n"
   ]
  },
  {
   "attachments": {},
   "cell_type": "markdown",
   "id": "b197aba6",
   "metadata": {},
   "source": [
    "### (optional) Tune Learning Rate"
   ]
  },
  {
   "cell_type": "code",
   "execution_count": null,
   "id": "33422c26",
   "metadata": {},
   "outputs": [],
   "source": [
    "tuner = pl.Trainer(auto_lr_find=True, accelerator=\"cuda\", devices=1, max_epochs=1)\n",
    "tuner.tune(pl_train_module)"
   ]
  },
  {
   "attachments": {},
   "cell_type": "markdown",
   "id": "2256ac01",
   "metadata": {},
   "source": [
    "### Run Training"
   ]
  },
  {
   "cell_type": "code",
   "execution_count": null,
   "id": "7a4da1e6",
   "metadata": {},
   "outputs": [],
   "source": [
    "trainer.fit(pl_train_module)"
   ]
  },
  {
   "cell_type": "code",
   "execution_count": null,
   "id": "34b9a7f3",
   "metadata": {},
   "outputs": [],
   "source": []
  },
  {
   "cell_type": "code",
   "execution_count": null,
   "id": "d47f91d0",
   "metadata": {},
   "outputs": [],
   "source": []
  }
 ],
 "metadata": {
  "kernelspec": {
   "display_name": "soul",
   "language": "python",
   "name": "python3"
  },
  "language_info": {
   "codemirror_mode": {
    "name": "ipython",
    "version": 3
   },
   "file_extension": ".py",
   "mimetype": "text/x-python",
   "name": "python",
   "nbconvert_exporter": "python",
   "pygments_lexer": "ipython3",
   "version": "3.9.16"
  },
  "vscode": {
   "interpreter": {
    "hash": "78bfdcee45ab360ff98997b0fdb262d833775071286b5e4a7c2a2c9a5871b9ea"
   }
  }
 },
 "nbformat": 4,
 "nbformat_minor": 5
}
