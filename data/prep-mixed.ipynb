{
 "cells": [
  {
   "cell_type": "markdown",
   "id": "763f987b-a094-40ec-b963-bbb6ebf16b16",
   "metadata": {},
   "source": [
    "## Mix the datasets"
   ]
  },
  {
   "cell_type": "code",
   "execution_count": 8,
   "id": "937515c2-adfb-48e9-b56b-c74cdc8c5150",
   "metadata": {},
   "outputs": [],
   "source": [
    "import pandas as pd\n",
    "import os.path as osp\n",
    "from huggingface_hub import HfApi\n",
    "import huggingface_hub as hf_hub\n",
    "from datasets import load_dataset\n",
    "import os\n",
    "from tqdm.notebook import tqdm\n",
    "from urllib.parse import urlparse\n",
    "from glob import glob\n",
    "\n",
    "root_dir = osp.abspath(r\"../../data/\")\n",
    "annotations_location = osp.join(root_dir, \"labels\")\n",
    "images_folder = osp.join(root_dir, \"images\")\n",
    "dataset_folder = r\"z:/data/dataset\"\n",
    "metada_file = \"metadata.jsonl\""
   ]
  },
  {
   "cell_type": "code",
   "execution_count": 25,
   "id": "d6b948df-0807-428d-b406-785052fcfe66",
   "metadata": {},
   "outputs": [
    {
     "data": {
      "text/plain": [
       "['/notebooks/data/labels/labels_sandl.csv',\n",
       " '/notebooks/data/labels/labels_dp.csv']"
      ]
     },
     "execution_count": 25,
     "metadata": {},
     "output_type": "execute_result"
    }
   ],
   "source": [
    "ann_files = glob(osp.join(annotations_location, \"*.csv\"))\n",
    "ann_files"
   ]
  },
  {
   "cell_type": "markdown",
   "id": "0d848c6d-0156-4968-9bf4-44218c4398ba",
   "metadata": {},
   "source": [
    "### Load Big Dataset Images"
   ]
  },
  {
   "cell_type": "code",
   "execution_count": 44,
   "id": "30148c4b-d03d-407b-830e-fd80725da459",
   "metadata": {
    "tags": []
   },
   "outputs": [],
   "source": [
    "df_ann = pd.read_csv(ann_files[1], encoding=\"utf-8\")\n",
    "\n",
    "df_ann[\"Image_Local\"] += \".png\"\n",
    "df_ann = df_ann.rename(columns={\"Image_Local\": \"image\", \"Description\": \"description\"})\n",
    "df_ann = df_ann[[\"image\", \"description\"]]\n"
   ]
  },
  {
   "cell_type": "markdown",
   "id": "a93515a1-faea-47d4-b964-e261db155337",
   "metadata": {},
   "source": [
    "### Load S&L Images"
   ]
  },
  {
   "cell_type": "code",
   "execution_count": 45,
   "id": "28cea495-197a-4cfc-b67e-6b662286aa8f",
   "metadata": {},
   "outputs": [
    {
     "data": {
      "text/html": [
       "<div>\n",
       "<style scoped>\n",
       "    .dataframe tbody tr th:only-of-type {\n",
       "        vertical-align: middle;\n",
       "    }\n",
       "\n",
       "    .dataframe tbody tr th {\n",
       "        vertical-align: top;\n",
       "    }\n",
       "\n",
       "    .dataframe thead th {\n",
       "        text-align: right;\n",
       "    }\n",
       "</style>\n",
       "<table border=\"1\" class=\"dataframe\">\n",
       "  <thead>\n",
       "    <tr style=\"text-align: right;\">\n",
       "      <th></th>\n",
       "      <th>image</th>\n",
       "      <th>description</th>\n",
       "    </tr>\n",
       "  </thead>\n",
       "  <tbody>\n",
       "    <tr>\n",
       "      <th>0</th>\n",
       "      <td>lasthouseonbedfordlane361359607318.jpg</td>\n",
       "      <td>Black spindle back chair dining set with stain...</td>\n",
       "    </tr>\n",
       "    <tr>\n",
       "      <th>1</th>\n",
       "      <td>lasthouseonbedfordlane829711129417.jpg</td>\n",
       "      <td>Corner beside drapes includes floating wood sh...</td>\n",
       "    </tr>\n",
       "    <tr>\n",
       "      <th>2</th>\n",
       "      <td>lasthouseonbedfordlane716070625097.jpg</td>\n",
       "      <td>White and black metal outdoor patio chairs are...</td>\n",
       "    </tr>\n",
       "    <tr>\n",
       "      <th>3</th>\n",
       "      <td>lasthouseonbedfordlane161631564633.jpg</td>\n",
       "      <td>This gray living room features a round stained...</td>\n",
       "    </tr>\n",
       "    <tr>\n",
       "      <th>4</th>\n",
       "      <td>lasthouseonbedfordlane830876955035.jpg</td>\n",
       "      <td>Round light wood accent table is flanked by bl...</td>\n",
       "    </tr>\n",
       "  </tbody>\n",
       "</table>\n",
       "</div>"
      ],
      "text/plain": [
       "                                    image  \\\n",
       "0  lasthouseonbedfordlane361359607318.jpg   \n",
       "1  lasthouseonbedfordlane829711129417.jpg   \n",
       "2  lasthouseonbedfordlane716070625097.jpg   \n",
       "3  lasthouseonbedfordlane161631564633.jpg   \n",
       "4  lasthouseonbedfordlane830876955035.jpg   \n",
       "\n",
       "                                         description  \n",
       "0  Black spindle back chair dining set with stain...  \n",
       "1  Corner beside drapes includes floating wood sh...  \n",
       "2  White and black metal outdoor patio chairs are...  \n",
       "3  This gray living room features a round stained...  \n",
       "4  Round light wood accent table is flanked by bl...  "
      ]
     },
     "execution_count": 45,
     "metadata": {},
     "output_type": "execute_result"
    }
   ],
   "source": [
    "df_ann_sl = pd.read_csv(ann_files[0], encoding=\"utf-8\")\n",
    "df_ann_sl[\"image\"] = df_ann_sl[\"image\"].apply(lambda x: osp.basename(urlparse(x).path))\n",
    "df_ann_sl.rename(columns={\"site_description\":\"description\"}, inplace=True)\n",
    "df_ann_sl = df_ann_sl[[\"image\", \"description\"]]\n",
    "df_ann_sl.head()"
   ]
  },
  {
   "cell_type": "markdown",
   "id": "4744b195-215d-4e82-bece-33fd04411da0",
   "metadata": {},
   "source": [
    "### Join the dataframes and remove entities with empty descriptions"
   ]
  },
  {
   "cell_type": "code",
   "execution_count": 46,
   "id": "7b3b6171-3df3-4258-9078-e13fe15dc4f2",
   "metadata": {},
   "outputs": [
    {
     "name": "stdout",
     "output_type": "stream",
     "text": [
      "Before removing empty: 111763\n",
      "Removing thegatewayhome311981081117.jpg\n",
      "Removing rootedinlove.design895513567315.jpg\n",
      "Removing stagerroz202980943618.jpg\n",
      "Removing amywilsondesigns206438777234.jpg\n",
      "Removing thewillowwindow870582023741.jpg\n",
      "Removing houseonwren122513937102.jpg\n",
      "Removing westcottonwoodlane715985889232.jpg\n",
      "Removing ellisandhale587216792975.jpg\n",
      "Removing thefontaineflat320622163311.jpg\n",
      "Removing softandsouthern626491771670.jpg\n",
      "Removing brasshouseinteriors677243133095.jpg\n",
      "Removing truemanstreasures857187242591.jpg\n",
      "Removing our1917farmhouse223357021536.jpg\n",
      "Removing theangabode456786576592.jpg\n",
      "Removing the.sycamore.farmhouse278007911678.jpg\n",
      "Removing thejoyfilledfarmhouse557834028543.jpg\n",
      "Removing shelley__bates248338008687.jpg\n",
      "Removing thesamesstyle3186174895.jpg\n",
      "Removing dawn.hoefler376222325591.jpg\n",
      "Removing becshomestyle765753583511.jpg\n",
      "Removing ourhomeoncolonial51709203637.jpg\n",
      "Removing athomeontheboulevard627787745990.jpg\n",
      "Removing athomeontheboulevard382757506293.jpg\n",
      "Removing howell.home101086995148.jpg\n",
      "After removing empty: 111677\n"
     ]
    }
   ],
   "source": [
    "df_ann = pd.concat([df_ann, df_ann_sl], ignore_index=True)\n",
    "\n",
    "print(f\"Before removing empty: {len(df_ann)}\")\n",
    "\n",
    "empty = df_ann[df_ann[\"description\"].isna()][\"image\"].values\n",
    "\n",
    "for im_fn in empty:\n",
    "    if osp.exists(osp.join(images_folder, im_fn)):\n",
    "        print(f\"Removing {im_fn}\")\n",
    "        os.remove(osp.join(images_folder, im_fn))\n",
    "\n",
    "df_ann = df_ann[~df_ann[\"image\"].isin(empty)]        \n",
    "print(f\"After removing empty: {len(df_ann)}\")"
   ]
  },
  {
   "cell_type": "code",
   "execution_count": null,
   "id": "ca7b8a3c-86e5-4ba8-8177-20a62d76c5e0",
   "metadata": {},
   "outputs": [],
   "source": []
  }
 ],
 "metadata": {
  "kernelspec": {
   "display_name": "Python 3 (ipykernel)",
   "language": "python",
   "name": "python3"
  },
  "language_info": {
   "codemirror_mode": {
    "name": "ipython",
    "version": 3
   },
   "file_extension": ".py",
   "mimetype": "text/x-python",
   "name": "python",
   "nbconvert_exporter": "python",
   "pygments_lexer": "ipython3",
   "version": "3.9.13"
  }
 },
 "nbformat": 4,
 "nbformat_minor": 5
}
