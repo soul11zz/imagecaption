{
 "cells": [
  {
   "cell_type": "markdown",
   "id": "763f987b-a094-40ec-b963-bbb6ebf16b16",
   "metadata": {},
   "source": [
    "## Mix the datasets"
   ]
  },
  {
   "cell_type": "code",
   "execution_count": 1,
   "id": "937515c2-adfb-48e9-b56b-c74cdc8c5150",
   "metadata": {},
   "outputs": [],
   "source": [
    "import pandas as pd\n",
    "import os.path as osp\n",
    "from huggingface_hub import HfApi\n",
    "import huggingface_hub as hf_hub\n",
    "from datasets import load_dataset\n",
    "import os\n",
    "from tqdm.notebook import tqdm\n",
    "from urllib.parse import urlparse\n",
    "from glob import glob\n",
    "\n",
    "root_dir = osp.abspath(r\"z:/data/\")\n",
    "sources_dir = osp.join(root_dir, \"sources\")\n",
    "annotations_location = osp.join(sources_dir, \"labels\")\n",
    "images_folder = osp.join(sources_dir, \"images\")\n",
    "dataset_folder = osp.join(root_dir, \"mixed_dataset\")\n",
    "metada_file = \"metadata.jsonl\""
   ]
  },
  {
   "cell_type": "code",
   "execution_count": 2,
   "id": "d6b948df-0807-428d-b406-785052fcfe66",
   "metadata": {},
   "outputs": [
    {
     "data": {
      "text/plain": [
       "['z:\\\\data\\\\sources\\\\labels\\\\labels_dp.csv',\n",
       " 'z:\\\\data\\\\sources\\\\labels\\\\labels_sandl.csv']"
      ]
     },
     "execution_count": 2,
     "metadata": {},
     "output_type": "execute_result"
    }
   ],
   "source": [
    "ann_files = glob(osp.join(annotations_location, \"*.csv\"))\n",
    "ann_files"
   ]
  },
  {
   "cell_type": "markdown",
   "id": "0d848c6d-0156-4968-9bf4-44218c4398ba",
   "metadata": {},
   "source": [
    "### Load Big Dataset Images"
   ]
  },
  {
   "cell_type": "code",
   "execution_count": 3,
   "id": "30148c4b-d03d-407b-830e-fd80725da459",
   "metadata": {
    "tags": []
   },
   "outputs": [],
   "source": [
    "df_ann = pd.read_csv(ann_files[0], encoding=\"utf-8\")\n",
    "\n",
    "df_ann[\"Image_Local\"] += \".png\"\n",
    "df_ann = df_ann.rename(columns={\"Image_Local\": \"image\", \"Description\": \"description\"})\n",
    "df_ann = df_ann[[\"image\", \"description\"]]\n"
   ]
  },
  {
   "cell_type": "markdown",
   "id": "a93515a1-faea-47d4-b964-e261db155337",
   "metadata": {},
   "source": [
    "### Load S&L Images"
   ]
  },
  {
   "cell_type": "code",
   "execution_count": 5,
   "id": "28cea495-197a-4cfc-b67e-6b662286aa8f",
   "metadata": {},
   "outputs": [
    {
     "data": {
      "text/html": [
       "<div>\n",
       "<style scoped>\n",
       "    .dataframe tbody tr th:only-of-type {\n",
       "        vertical-align: middle;\n",
       "    }\n",
       "\n",
       "    .dataframe tbody tr th {\n",
       "        vertical-align: top;\n",
       "    }\n",
       "\n",
       "    .dataframe thead th {\n",
       "        text-align: right;\n",
       "    }\n",
       "</style>\n",
       "<table border=\"1\" class=\"dataframe\">\n",
       "  <thead>\n",
       "    <tr style=\"text-align: right;\">\n",
       "      <th></th>\n",
       "      <th>image</th>\n",
       "      <th>description</th>\n",
       "    </tr>\n",
       "  </thead>\n",
       "  <tbody>\n",
       "    <tr>\n",
       "      <th>0</th>\n",
       "      <td>lasthouseonbedfordlane361359607318.jpg</td>\n",
       "      <td>Black spindle back chair dining set with stain...</td>\n",
       "    </tr>\n",
       "    <tr>\n",
       "      <th>1</th>\n",
       "      <td>lasthouseonbedfordlane829711129417.jpg</td>\n",
       "      <td>Corner beside drapes includes floating wood sh...</td>\n",
       "    </tr>\n",
       "    <tr>\n",
       "      <th>2</th>\n",
       "      <td>lasthouseonbedfordlane716070625097.jpg</td>\n",
       "      <td>White and black metal outdoor patio chairs are...</td>\n",
       "    </tr>\n",
       "    <tr>\n",
       "      <th>3</th>\n",
       "      <td>lasthouseonbedfordlane161631564633.jpg</td>\n",
       "      <td>This gray living room features a round stained...</td>\n",
       "    </tr>\n",
       "    <tr>\n",
       "      <th>4</th>\n",
       "      <td>lasthouseonbedfordlane830876955035.jpg</td>\n",
       "      <td>Round light wood accent table is flanked by bl...</td>\n",
       "    </tr>\n",
       "  </tbody>\n",
       "</table>\n",
       "</div>"
      ],
      "text/plain": [
       "                                    image  \\\n",
       "0  lasthouseonbedfordlane361359607318.jpg   \n",
       "1  lasthouseonbedfordlane829711129417.jpg   \n",
       "2  lasthouseonbedfordlane716070625097.jpg   \n",
       "3  lasthouseonbedfordlane161631564633.jpg   \n",
       "4  lasthouseonbedfordlane830876955035.jpg   \n",
       "\n",
       "                                         description  \n",
       "0  Black spindle back chair dining set with stain...  \n",
       "1  Corner beside drapes includes floating wood sh...  \n",
       "2  White and black metal outdoor patio chairs are...  \n",
       "3  This gray living room features a round stained...  \n",
       "4  Round light wood accent table is flanked by bl...  "
      ]
     },
     "execution_count": 5,
     "metadata": {},
     "output_type": "execute_result"
    }
   ],
   "source": [
    "df_ann_sl = pd.read_csv(ann_files[1], encoding=\"utf-8\")\n",
    "df_ann_sl[\"image\"] = df_ann_sl[\"image\"].apply(lambda x: osp.basename(urlparse(x).path))\n",
    "df_ann_sl.rename(columns={\"site_description\":\"description\"}, inplace=True)\n",
    "df_ann_sl = df_ann_sl[[\"image\", \"description\"]]\n",
    "df_ann_sl.head()"
   ]
  },
  {
   "cell_type": "markdown",
   "id": "4744b195-215d-4e82-bece-33fd04411da0",
   "metadata": {},
   "source": [
    "### Join the dataframes and remove entities with empty descriptions"
   ]
  },
  {
   "cell_type": "code",
   "execution_count": null,
   "id": "7b3b6171-3df3-4258-9078-e13fe15dc4f2",
   "metadata": {},
   "outputs": [],
   "source": [
    "df_ann = pd.concat([df_ann, df_ann_sl], ignore_index=True)\n",
    "\n",
    "print(f\"Before removing empty: {len(df_ann)}\")\n",
    "\n",
    "empty = df_ann[df_ann[\"description\"].isna()][\"image\"].values\n",
    "\n",
    "for im_fn in empty:\n",
    "    if osp.exists(osp.join(images_folder, im_fn)):\n",
    "        print(f\"Removing {im_fn}\")\n",
    "        os.remove(osp.join(images_folder, im_fn))\n",
    "\n",
    "df_ann = df_ann[~df_ann[\"image\"].isin(empty)]        \n",
    "print(f\"After removing empty: {len(df_ann)}\")"
   ]
  },
  {
   "cell_type": "code",
   "execution_count": 7,
   "id": "0b652dc5",
   "metadata": {},
   "outputs": [],
   "source": [
    "image_files = os.listdir(images_folder)\n",
    "df_ann = df_ann[df_ann[\"image\"].isin(image_files)]\n",
    "image_files = set(image_files)\n",
    "df_ann_images = set(df_ann[\"image\"].values)\n",
    "existing_files = image_files.intersection(df_ann_images)\n",
    "remove_files = image_files.difference(df_ann_images)\n",
    "for f in remove_files:\n",
    "    os.remove(osp.join(images_folder, f))"
   ]
  },
  {
   "cell_type": "markdown",
   "id": "c238a6af-e0e4-4fc7-9baa-f3f1e0d2436d",
   "metadata": {},
   "source": [
    "### Split the training set"
   ]
  },
  {
   "cell_type": "code",
   "execution_count": 17,
   "id": "90547fa3-e3fd-4e62-a572-e0a50f489c4c",
   "metadata": {},
   "outputs": [],
   "source": [
    "from sklearn.model_selection import train_test_split\n",
    "from glob import glob\n",
    "import shutil\n",
    "\n",
    "all_files = glob(osp.join(images_folder, \"*.jpg\")) + glob(osp.join(images_folder, \"*.png\")) \n",
    "train_val_files, test_files = train_test_split(all_files, test_size=0.03, random_state=42)\n",
    "train_files, val_files = train_test_split(train_val_files, test_size=0.03, random_state=42)"
   ]
  },
  {
   "cell_type": "code",
   "execution_count": 20,
   "id": "6df0f758",
   "metadata": {},
   "outputs": [],
   "source": [
    "len(all_files), len(train_files), len(val_files), len(test_files)\n",
    "assert len(train_files) + len(val_files) + len(test_files) == len(all_files)"
   ]
  },
  {
   "cell_type": "code",
   "execution_count": 21,
   "id": "f3d6ee6f-2aef-40eb-8bf7-8147df838bb9",
   "metadata": {},
   "outputs": [],
   "source": [
    "train_dir = osp.join(dataset_folder, \"train\")\n",
    "val_dir = osp.join(dataset_folder, \"validation\")\n",
    "test_dir = osp.join(dataset_folder, \"test\")\n",
    "\n",
    "train_metadata = osp.join(train_dir, metada_file)\n",
    "val_metadata = osp.join(val_dir, metada_file)\n",
    "test_metadata = osp.join(test_dir, metada_file)\n",
    "\n",
    "def copy_files(files, dest_dir, del_existing=False):\n",
    "  \n",
    "  if not osp.exists(dest_dir):\n",
    "    os.makedirs(dest_dir)\n",
    "  elif del_existing:\n",
    "    shutil.rmtree(dest_dir)\n",
    "    os.makedirs(dest_dir)\n",
    "    \n",
    "  for f in files:\n",
    "      shutil.copy(f, dest_dir)"
   ]
  },
  {
   "cell_type": "code",
   "execution_count": 22,
   "id": "d3d28a5c-70f1-4c98-b0f9-c09f513b8251",
   "metadata": {
    "tags": []
   },
   "outputs": [],
   "source": [
    "for files in zip([train_files, val_files, test_files], [train_dir, val_dir, test_dir]):\n",
    "  copy_files(*files, del_existing=True)"
   ]
  },
  {
   "cell_type": "code",
   "execution_count": 49,
   "id": "ada0844f-22ab-4a44-8f4a-cec590cdfa46",
   "metadata": {
    "tags": []
   },
   "outputs": [],
   "source": [
    "# def get_files(dir):\n",
    "#     if osp.exists(osp.join(dir, \"metadata.jsonl\")):\n",
    "#         os.remove(osp.join(dir, \"metadata.jsonl\"))\n",
    "#     return os.listdir(dir)\n",
    "\n",
    "# train_files = get_files(train_dir)\n",
    "# test_files = get_files(test_dir)\n",
    "# val_files = get_files(val_dir)\n"
   ]
  },
  {
   "cell_type": "code",
   "execution_count": 51,
   "id": "93293885-98fe-4ccb-8a62-68a2febb5f01",
   "metadata": {},
   "outputs": [
    {
     "data": {
      "text/plain": [
       "3420"
      ]
     },
     "execution_count": 51,
     "metadata": {},
     "output_type": "execute_result"
    }
   ],
   "source": [
    "len(test_files)"
   ]
  },
  {
   "cell_type": "markdown",
   "id": "76042be4-0b68-4644-97e8-66a6fd48853b",
   "metadata": {},
   "source": [
    "### Create Metadata for matching files"
   ]
  },
  {
   "cell_type": "code",
   "execution_count": 23,
   "id": "2d24cb5b-115a-4444-9b85-f270e49e98a5",
   "metadata": {},
   "outputs": [],
   "source": [
    "import orjson\n",
    "\n",
    "def create_metadata(filter_files, metadata_file, *, df = df_ann):\n",
    "  \n",
    "  filter_files = [osp.basename(f) for f in filter_files]\n",
    "  df_filtered = df[df[\"image\"].isin(filter_files)]\n",
    "  label_dict = df_filtered.set_index('image')['description'].to_dict()\n",
    "  metadata = []\n",
    "  \n",
    "  for fn, label in label_dict.items():\n",
    "    strg = orjson.dumps({\"file_name\": fn, \"text\": str(label).strip()}).decode(\"utf-8\", \"ignore\") + \"\\n\"\n",
    "    strg = strg.encode(\"utf-8\")\n",
    "    metadata.append(strg)\n",
    "    \n",
    "  with open(metadata_file, \"wb\") as f:\n",
    "    f.writelines(metadata)\n"
   ]
  },
  {
   "cell_type": "code",
   "execution_count": 24,
   "id": "108543c7-82a5-4a01-9b05-f29d079291f5",
   "metadata": {},
   "outputs": [],
   "source": [
    "create_metadata(train_files, train_metadata)\n",
    "create_metadata(test_files, test_metadata)\n",
    "create_metadata(val_files, val_metadata)"
   ]
  },
  {
   "cell_type": "code",
   "execution_count": 25,
   "id": "32663fbb-ab24-42c0-bd83-cf3b9ebdd1a4",
   "metadata": {},
   "outputs": [
    {
     "data": {
      "text/plain": [
       "105075"
      ]
     },
     "execution_count": 25,
     "metadata": {},
     "output_type": "execute_result"
    }
   ],
   "source": [
    "len(train_files)"
   ]
  },
  {
   "cell_type": "markdown",
   "id": "3a766402-9525-4fce-b785-ff74fb36936c",
   "metadata": {},
   "source": [
    "### Upload to HuggingFace"
   ]
  },
  {
   "cell_type": "code",
   "execution_count": 18,
   "id": "3a118827-f67b-46a5-89e6-e1d90cf9091f",
   "metadata": {},
   "outputs": [
    {
     "data": {
      "application/vnd.jupyter.widget-view+json": {
       "model_id": "69e19400faef4a2caa12958024372a45",
       "version_major": 2,
       "version_minor": 0
      },
      "text/plain": [
       "VBox(children=(HTML(value='<center> <img\\nsrc=https://huggingface.co/front/assets/huggingface_logo-noborder.sv…"
      ]
     },
     "metadata": {},
     "output_type": "display_data"
    }
   ],
   "source": [
    "hf_hub.notebook_login()"
   ]
  },
  {
   "cell_type": "code",
   "execution_count": 26,
   "id": "7b9860de-e2af-425b-804a-2fd85f133e40",
   "metadata": {},
   "outputs": [],
   "source": [
    "api = HfApi()\n",
    "repo_name = \"soul11zz/image-description-large\"\n",
    "repo_url = api.create_repo(repo_name, private=True, exist_ok=True, repo_type=\"dataset\")\n"
   ]
  },
  {
   "cell_type": "code",
   "execution_count": 27,
   "id": "67b2c6b5-6357-4e56-80b6-0310ec6ba58f",
   "metadata": {},
   "outputs": [],
   "source": [
    "def upload_to_hub(repo_name, dataset_folder):\n",
    "  \n",
    "  dataset = load_dataset(\"imagefolder\", data_dir=dataset_folder)\n",
    "  #dataset.cleanup_cache_files()\n",
    "  dataset.push_to_hub(repo_name)"
   ]
  },
  {
   "cell_type": "code",
   "execution_count": null,
   "id": "af140da9-2bb3-480a-9ee9-d1591f813f72",
   "metadata": {},
   "outputs": [],
   "source": [
    "\n",
    "upload_to_hub(repo_name, dataset_folder)\n"
   ]
  }
 ],
 "metadata": {
  "kernelspec": {
   "display_name": "soul",
   "language": "python",
   "name": "python3"
  },
  "language_info": {
   "codemirror_mode": {
    "name": "ipython",
    "version": 3
   },
   "file_extension": ".py",
   "mimetype": "text/x-python",
   "name": "python",
   "nbconvert_exporter": "python",
   "pygments_lexer": "ipython3",
   "version": "3.9.16"
  },
  "vscode": {
   "interpreter": {
    "hash": "78bfdcee45ab360ff98997b0fdb262d833775071286b5e4a7c2a2c9a5871b9ea"
   }
  }
 },
 "nbformat": 4,
 "nbformat_minor": 5
}
