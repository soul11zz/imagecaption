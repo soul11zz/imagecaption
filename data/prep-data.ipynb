{
 "cells": [
  {
   "cell_type": "markdown",
   "metadata": {},
   "source": [
    "### Prepare data for training"
   ]
  },
  {
   "cell_type": "code",
   "execution_count": 50,
   "metadata": {},
   "outputs": [],
   "source": [
    "import pandas as pd\n",
    "import os.path as osp\n",
    "from huggingface_hub import HfApi\n",
    "import huggingface_hub as hf_hub\n",
    "from datasets import load_dataset\n",
    "import os\n",
    "\n",
    "annotations_location = r\"z:/data/labels/labels.csv\"\n",
    "images_folder = r\"z:/data/images\"\n",
    "dataset_folder = r\"z:/data/dataset\"\n",
    "metada_file = \"metadata.jsonl\""
   ]
  },
  {
   "cell_type": "code",
   "execution_count": 2,
   "metadata": {},
   "outputs": [
    {
     "data": {
      "application/vnd.jupyter.widget-view+json": {
       "model_id": "b94c00e659cb42a0b4eddfffdde92388",
       "version_major": 2,
       "version_minor": 0
      },
      "text/plain": [
       "VBox(children=(HTML(value='<center> <img\\nsrc=https://huggingface.co/front/assets/huggingface_logo-noborder.sv…"
      ]
     },
     "metadata": {},
     "output_type": "display_data"
    }
   ],
   "source": [
    "hf_hub.notebook_login()"
   ]
  },
  {
   "cell_type": "code",
   "execution_count": 53,
   "metadata": {},
   "outputs": [
    {
     "data": {
      "text/html": [
       "<div>\n",
       "<style scoped>\n",
       "    .dataframe tbody tr th:only-of-type {\n",
       "        vertical-align: middle;\n",
       "    }\n",
       "\n",
       "    .dataframe tbody tr th {\n",
       "        vertical-align: top;\n",
       "    }\n",
       "\n",
       "    .dataframe thead th {\n",
       "        text-align: right;\n",
       "    }\n",
       "</style>\n",
       "<table border=\"1\" class=\"dataframe\">\n",
       "  <thead>\n",
       "    <tr style=\"text-align: right;\">\n",
       "      <th></th>\n",
       "      <th>caption</th>\n",
       "      <th>text_comments</th>\n",
       "      <th>site_description</th>\n",
       "      <th>image_title</th>\n",
       "      <th>collections</th>\n",
       "      <th>File Name</th>\n",
       "    </tr>\n",
       "  </thead>\n",
       "  <tbody>\n",
       "    <tr>\n",
       "      <th>0</th>\n",
       "      <td>Happy Tuesday!! \\n\\nLast week’s follower favor...</td>\n",
       "      <td>['All the fall feels…so pretty 😍😍', '@2sweette...</td>\n",
       "      <td>Black spindle back chair dining set with stain...</td>\n",
       "      <td>Black Spindle Back Chair Dining Room</td>\n",
       "      <td>2051 spindle dining chair ideas</td>\n",
       "      <td>lasthouseonbedfordlane361359607318.jpg</td>\n",
       "    </tr>\n",
       "    <tr>\n",
       "      <th>1</th>\n",
       "      <td>Do you like floating shelves? \\n\\nThese were p...</td>\n",
       "      <td>['Love! Beautifully styled shelves!', '@softan...</td>\n",
       "      <td>Corner beside drapes includes floating wood sh...</td>\n",
       "      <td>Wood Floating Shelves with White Accents</td>\n",
       "      <td>2275 floating shelves ideas</td>\n",
       "      <td>lasthouseonbedfordlane829711129417.jpg</td>\n",
       "    </tr>\n",
       "    <tr>\n",
       "      <th>2</th>\n",
       "      <td>Happy Monday! \\n\\nDid you do anything fun this...</td>\n",
       "      <td>['Y’all looked beautiful ❤️', '@karinv1022 tha...</td>\n",
       "      <td>White and black metal outdoor patio chairs are...</td>\n",
       "      <td>White and Gray Braided Outdoor Patio Rug</td>\n",
       "      <td>2089 Farmhouse rug ideas for living room</td>\n",
       "      <td>lasthouseonbedfordlane716070625097.jpg</td>\n",
       "    </tr>\n",
       "    <tr>\n",
       "      <th>3</th>\n",
       "      <td>That was then - this is now!  Our living room ...</td>\n",
       "      <td>['Wow ❤️', '@samtweich ❤️❤️', 'I’ve never swap...</td>\n",
       "      <td>This gray living room features a round stained...</td>\n",
       "      <td>White and Gray Living Room Rug</td>\n",
       "      <td>2089 Farmhouse rug ideas for living room</td>\n",
       "      <td>lasthouseonbedfordlane161631564633.jpg</td>\n",
       "    </tr>\n",
       "    <tr>\n",
       "      <th>4</th>\n",
       "      <td>There’s no rule that says you need to spend a ...</td>\n",
       "      <td>['So beautiful xx', '@wisteria.house_ thank yo...</td>\n",
       "      <td>Round light wood accent table is flanked by bl...</td>\n",
       "      <td>Living Room with Gray Vintage Area Rug</td>\n",
       "      <td>2089 Farmhouse rug ideas for living room, 2149...</td>\n",
       "      <td>lasthouseonbedfordlane830876955035.jpg</td>\n",
       "    </tr>\n",
       "  </tbody>\n",
       "</table>\n",
       "</div>"
      ],
      "text/plain": [
       "                                             caption  \\\n",
       "0  Happy Tuesday!! \\n\\nLast week’s follower favor...   \n",
       "1  Do you like floating shelves? \\n\\nThese were p...   \n",
       "2  Happy Monday! \\n\\nDid you do anything fun this...   \n",
       "3  That was then - this is now!  Our living room ...   \n",
       "4  There’s no rule that says you need to spend a ...   \n",
       "\n",
       "                                       text_comments  \\\n",
       "0  ['All the fall feels…so pretty 😍😍', '@2sweette...   \n",
       "1  ['Love! Beautifully styled shelves!', '@softan...   \n",
       "2  ['Y’all looked beautiful ❤️', '@karinv1022 tha...   \n",
       "3  ['Wow ❤️', '@samtweich ❤️❤️', 'I’ve never swap...   \n",
       "4  ['So beautiful xx', '@wisteria.house_ thank yo...   \n",
       "\n",
       "                                    site_description  \\\n",
       "0  Black spindle back chair dining set with stain...   \n",
       "1  Corner beside drapes includes floating wood sh...   \n",
       "2  White and black metal outdoor patio chairs are...   \n",
       "3  This gray living room features a round stained...   \n",
       "4  Round light wood accent table is flanked by bl...   \n",
       "\n",
       "                                image_title  \\\n",
       "0      Black Spindle Back Chair Dining Room   \n",
       "1  Wood Floating Shelves with White Accents   \n",
       "2  White and Gray Braided Outdoor Patio Rug   \n",
       "3            White and Gray Living Room Rug   \n",
       "4    Living Room with Gray Vintage Area Rug   \n",
       "\n",
       "                                         collections  \\\n",
       "0                    2051 spindle dining chair ideas   \n",
       "1                        2275 floating shelves ideas   \n",
       "2           2089 Farmhouse rug ideas for living room   \n",
       "3           2089 Farmhouse rug ideas for living room   \n",
       "4  2089 Farmhouse rug ideas for living room, 2149...   \n",
       "\n",
       "                                File Name  \n",
       "0  lasthouseonbedfordlane361359607318.jpg  \n",
       "1  lasthouseonbedfordlane829711129417.jpg  \n",
       "2  lasthouseonbedfordlane716070625097.jpg  \n",
       "3  lasthouseonbedfordlane161631564633.jpg  \n",
       "4  lasthouseonbedfordlane830876955035.jpg  "
      ]
     },
     "execution_count": 53,
     "metadata": {},
     "output_type": "execute_result"
    }
   ],
   "source": [
    "df_ann = pd.read_csv(annotations_location, encoding=\"utf-8\")\n",
    "df_ann.drop(columns=[\"image\"], inplace=True)\n",
    "df_ann[\"File Name\"] = df_ann[\"File Name\"].apply(lambda x: x + \".jpg\")\n",
    "df_ann.head()"
   ]
  },
  {
   "attachments": {},
   "cell_type": "markdown",
   "metadata": {},
   "source": [
    "### Split the training set"
   ]
  },
  {
   "cell_type": "code",
   "execution_count": 6,
   "metadata": {},
   "outputs": [],
   "source": [
    "from sklearn.model_selection import train_test_split\n",
    "from glob import glob\n",
    "import shutil\n",
    "\n",
    "all_files = glob(osp.join(images_folder, \"*.jpg\"))\n",
    "train_val_files, test_files = train_test_split(all_files, test_size=0.15, random_state=42)\n",
    "train_files, val_files = train_test_split(train_val_files, test_size=0.15, random_state=42)\n"
   ]
  },
  {
   "cell_type": "code",
   "execution_count": 67,
   "metadata": {},
   "outputs": [],
   "source": [
    "train_dir = osp.join(dataset_folder, \"train\")\n",
    "val_dir = osp.join(dataset_folder, \"validation\")\n",
    "test_dir = osp.join(dataset_folder, \"test\")\n",
    "\n",
    "train_metadata = osp.join(train_dir, metada_file)\n",
    "val_metadata = osp.join(val_dir, metada_file)\n",
    "test_metadata = osp.join(test_dir, metada_file)\n",
    "\n",
    "def copy_files(files, dest_dir, del_existing=False):\n",
    "  \n",
    "  if not osp.exists(dest_dir):\n",
    "    os.mkdir(dest_dir)\n",
    "  elif del_existing:\n",
    "    os.rmtree(dest_dir)\n",
    "    \n",
    "  for f in files:\n",
    "      shutil.copy(f, dest_dir)"
   ]
  },
  {
   "cell_type": "code",
   "execution_count": 13,
   "metadata": {},
   "outputs": [],
   "source": [
    "for files in zip([train_files, val_files, test_files], [train_dir, val_dir, test_dir]):\n",
    "  copy_files(*files, del_existing=True)"
   ]
  },
  {
   "attachments": {},
   "cell_type": "markdown",
   "metadata": {},
   "source": [
    "### Create Dictionary for matching files"
   ]
  },
  {
   "cell_type": "code",
   "execution_count": 19,
   "metadata": {},
   "outputs": [],
   "source": [
    "import orjson"
   ]
  },
  {
   "cell_type": "code",
   "execution_count": 57,
   "metadata": {},
   "outputs": [],
   "source": [
    "def create_metadata(filter_files, metadata_file, *, df = df_ann):\n",
    "  \n",
    "  filter_files = [osp.basename(f) for f in filter_files]\n",
    "  df_filtered = df[df[\"File Name\"].isin(filter_files)]\n",
    "  label_dict = df_filtered.set_index('File Name')['image_title'].to_dict()\n",
    "  metadata = []\n",
    "  \n",
    "  for fn, label in label_dict.items():\n",
    "    strg = orjson.dumps({\"file_name\": fn, \"text\": label}).decode(\"utf-8\", \"ignore\").encode(\"utf-8\")\n",
    "    metadata.append(strg)\n",
    "    \n",
    "  with open(metadata_file, \"wb\") as f:\n",
    "    f.writelines(metadata)\n"
   ]
  },
  {
   "cell_type": "code",
   "execution_count": 58,
   "metadata": {},
   "outputs": [],
   "source": [
    "create_metadata(train_files, train_metadata)\n",
    "create_metadata(test_files, test_metadata)\n",
    "create_metadata(val_files, val_metadata)"
   ]
  },
  {
   "attachments": {},
   "cell_type": "markdown",
   "metadata": {},
   "source": [
    "### Upload to HuggingFace Hub"
   ]
  },
  {
   "cell_type": "code",
   "execution_count": 59,
   "metadata": {},
   "outputs": [],
   "source": [
    "api = HfApi()\n",
    "repo_name = \"soul11zz/image-caption-desc-only\"\n",
    "repo_url = api.create_repo(repo_name, private=True, exist_ok=True, repo_type=\"dataset\")\n"
   ]
  },
  {
   "cell_type": "code",
   "execution_count": 65,
   "metadata": {},
   "outputs": [],
   "source": [
    "def upload_to_hub(repo_name, dataset_folder, split):\n",
    "  \n",
    "  dataset = load_dataset(\"imagefolder\", data_dir=dataset_folder, split=split)\n",
    "  dataset.push_to_hub(repo_name)"
   ]
  },
  {
   "cell_type": "code",
   "execution_count": null,
   "metadata": {},
   "outputs": [],
   "source": [
    "#dataset_folder = r\"/Users/berno/Dropbox/zakhar/data/dataset\"\n",
    "upload_to_hub(repo_name, dataset_folder, \"train\")\n"
   ]
  },
  {
   "cell_type": "code",
   "execution_count": null,
   "metadata": {},
   "outputs": [],
   "source": [
    "\n",
    "upload_to_hub(repo_name, dataset_folder, \"validation\")\n",
    "upload_to_hub(repo_name, dataset_folder, \"test\")"
   ]
  },
  {
   "cell_type": "code",
   "execution_count": 43,
   "metadata": {},
   "outputs": [
    {
     "data": {
      "text/plain": [
       "True"
      ]
     },
     "execution_count": 43,
     "metadata": {},
     "output_type": "execute_result"
    }
   ],
   "source": [
    "osp.exists(dataset_folder)"
   ]
  },
  {
   "cell_type": "code",
   "execution_count": null,
   "metadata": {},
   "outputs": [],
   "source": []
  },
  {
   "cell_type": "code",
   "execution_count": null,
   "metadata": {},
   "outputs": [],
   "source": []
  },
  {
   "cell_type": "code",
   "execution_count": null,
   "metadata": {},
   "outputs": [],
   "source": []
  }
 ],
 "metadata": {
  "kernelspec": {
   "display_name": "soul",
   "language": "python",
   "name": "python3"
  },
  "language_info": {
   "codemirror_mode": {
    "name": "ipython",
    "version": 3
   },
   "file_extension": ".py",
   "mimetype": "text/x-python",
   "name": "python",
   "nbconvert_exporter": "python",
   "pygments_lexer": "ipython3",
   "version": "3.9.16"
  },
  "orig_nbformat": 4,
  "vscode": {
   "interpreter": {
    "hash": "78bfdcee45ab360ff98997b0fdb262d833775071286b5e4a7c2a2c9a5871b9ea"
   }
  }
 },
 "nbformat": 4,
 "nbformat_minor": 2
}
